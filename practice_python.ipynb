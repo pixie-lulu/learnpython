{
 "cells": [
  {
   "cell_type": "code",
   "execution_count": null,
   "metadata": {
    "tags": []
   },
   "outputs": [],
   "source": [
    "# 练习一：\n",
    "\"\"\"\n",
    "有一个列表，其中包括 10 个元素，例如这个列表是[1,2,3,4,5,6,7,8,9,0],要求将列表中的每个元素一次向前移动一个位置，第一个元素到列表的最后，然后输出这个列表。最终样式是[2,3,4,5,6,7,8,9,0,1]。\n",
    "\"\"\"\n",
    "\n",
    "# ！/usr/bin/env python3  # 根据PATH环境变量中指定的第一个python解释器，执行python脚本\n",
    "# coding=utf-8  # 声明该文件的编码格式为 utf-8\n",
    "\n",
    "elements = [1,2,3,4,5,6,7,8,9,0]\n",
    "b = elements.pop(0)\n",
    "elements.append(b)\n",
    "print(\"elments:\",elements)\n"
   ]
  },
  {
   "cell_type": "code",
   "execution_count": 3,
   "metadata": {
    "tags": []
   },
   "outputs": [
    {
     "output_type": "stream",
     "name": "stdout",
     "text": "成绩低于平均分得学生的人数: 21\n学生成绩按从大到小排列: [99, 97, 96, 94, 90, 82, 80, 78, 77, 76, 75, 75, 75, 73, 70, 69, 62, 57, 52, 43, 41, 41, 41, 39, 38, 37, 33, 31, 28, 26, 25, 24, 20, 14, 13, 13, 11, 7, 3, 0]\n"
    }
   ],
   "source": [
    "# 练习二：\n",
    "\"\"\"\n",
    "按照下面的要求实现对列表的操作：\n",
    "1.产生一个列表，其中有 40 个元素，每个元素是 0 到 100 的一个随机整数\n",
    "2.如果这个列表中的数据代表着某个班级 40 人的分数，请计算成绩低于平均分的学生人数，并输出\n",
    "3.对上面的列表元素从大到小排序\n",
    "\"\"\"\n",
    "\n",
    "# ！/usr/bin/env python3  # 根据PATH环境变量中指定的第一个python解释器，执行python脚本\n",
    "# coding=utf-8  # 声明该文件的编码格式为 utf-8\n",
    "\n",
    "import numpy as np\n",
    "\n",
    "MIN_SCORE = 0\n",
    "MAX_SCORE = 100\n",
    "NUM_STUDENTS = 40\n",
    "scores = np.random.randint(MIN_SCORE, MAX_SCORE, size=NUM_STUDENTS)\n",
    "\n",
    "scores_under_average = [x for x in scores if x < np.mean(scores)]\n",
    "num_under_average = len(scores_under_average)\n",
    "print(\"成绩低于平均分得学生的人数:\",num_under_average)\n",
    "\n",
    "descending = True\n",
    "scores_new = sorted(scores,reverse = descending)\n",
    "print(\"学生成绩按从大到小排列:\",scores_new)"
   ]
  },
  {
   "cell_type": "code",
   "execution_count": 13,
   "metadata": {
    "tags": []
   },
   "outputs": [
    {
     "output_type": "stream",
     "name": "stdout",
     "text": "原字符串： How  are   you?\n以空格分隔原字符串： ['How', '', 'are', '', '', 'you?']\n单词之间只有一个空格的新字符串： How are you?\n"
    }
   ],
   "source": [
    "# 练习三:\n",
    "\"\"\"\n",
    "如果将一句话作为一个字符串，那么这个字符串中必然会有空格（这里仅讨论英文），比如\"How are you.\"，但有的时候，会在两个单词之间多一个空格。现在的任务是，如果一个字符串中有连续的两个空格，请把它删除。\n",
    "\"\"\"\n",
    "\n",
    "# ！/usr/bin/env python3  # 根据PATH环境变量中指定的第一个python解释器，执行python脚本\n",
    "# coding=utf-8  # 声明该文件的编码格式为 utf-8\n",
    "\n",
    "string = \"How  are   you?\"\n",
    "print(\"原字符串：\", string)\n",
    "\n",
    "words = string.split(\" \")\n",
    "print(\"以空格分隔原字符串：\", words)\n",
    "\n",
    "words_invalid = [s for s in words if s!=\"\"]\n",
    "string_new = \" \".join(words_invalid)\n",
    "print(\"单词之间只有一个空格的新字符串：\", string_new)"
   ]
  },
  {
   "cell_type": "code",
   "execution_count": 47,
   "metadata": {
    "tags": []
   },
   "outputs": [
    {
     "output_type": "stream",
     "name": "stdout",
     "text": "斐波那契数列中，index为3的数是2：\n"
    }
   ],
   "source": [
    "# 练习四 【法一】\n",
    "\"\"\"\n",
    "斐波那契数列\n",
    "\"\"\"\n",
    "\n",
    "# ！/usr/bin/env python3  # 根据PATH环境变量中指定的第一个python解释器，执行python脚本\n",
    "# coding=utf-8  # 声明该文件的编码格式为 utf-8\n",
    "\n",
    "n = int(input(\"斐波那契数列中的index:\"))\n",
    "\n",
    "def fibonacci(n):\n",
    "    if n == 0:\n",
    "        return 0\n",
    "    elif n == 1:\n",
    "        return 1\n",
    "    else:\n",
    "        return fibonacci(n-1) + fibonacci(n-2)\n",
    "\n",
    "fibo_value = fibonacci(n)\n",
    "print(\"斐波那契数列中，index为%d的数是%d：\"%(n,fibo_value))\n"
   ]
  },
  {
   "cell_type": "code",
   "execution_count": 2,
   "metadata": {
    "tags": []
   },
   "outputs": [
    {
     "output_type": "stream",
     "name": "stdout",
     "text": "斐波那契数列中，index为100的数： 354224848179261915075\n"
    }
   ],
   "source": [
    "# 练习四 【法二】\n",
    "\"\"\"\n",
    "斐波那契数列\n",
    "\"\"\"\n",
    "\n",
    "# ！/usr/bin/env python3  # 根据PATH环境变量中指定的第一个python解释器，执行python脚本\n",
    "# coding=utf-8  # 声明该文件的编码格式为 utf-8\n",
    "\n",
    "a = 0\n",
    "b = 1\n",
    "n = 100\n",
    "\n",
    "for i in range(n-1):\n",
    "    a, b = b, a+b\n",
    "\n",
    "print(\"斐波那契数列中，index为100的数：\", b)\n"
   ]
  },
  {
   "cell_type": "code",
   "execution_count": 48,
   "metadata": {
    "tags": []
   },
   "outputs": [
    {
     "output_type": "stream",
     "name": "stdout",
     "text": "一元二次方程的实数解：x1=-1.00, x2 =-1.00\n"
    }
   ],
   "source": [
    "# 练习五\n",
    "\"\"\"\n",
    "解一元二次方程(这里只考虑实数解)\n",
    "\"\"\"\n",
    "\n",
    "# ！/usr/bin/env python3  # 根据PATH环境变量中指定的第一个python解释器，执行python脚本\n",
    "# coding=utf-8  # 声明该文件的编码格式为 utf-8\n",
    "\n",
    "import math\n",
    "\n",
    "a = float(input(\"一元二次方程的系数a:\")) \n",
    "b = float(input(\"一元二次方程的系数b:\"))\n",
    "c = float(input(\"一元二次方程的系数c:\"))\n",
    "\n",
    "def solve_quadratic_equation(a,b,c):\n",
    "    delta = b * b - 4 * a * c\n",
    "    if delta >= 0:\n",
    "        x1 = (-b + math.sqrt(delta) ) / (2 * a)\n",
    "        x2 = (-b - math.sqrt(delta) ) / (2 * a)\n",
    "        return x1, x2\n",
    "    else: \n",
    "        raise ValueError(\"get delta under zero:\\n No real solution\")\n",
    "\n",
    "try:\n",
    "    x1, x2 = solve_quadratic_equation(a,b,c)\n",
    "    print(\"一元二次方程的实数解：x1=%.2f, x2 =%.2f\"%(x1,x2))\n",
    "except ValueError as ex:\n",
    "    print(ex)\n"
   ]
  },
  {
   "cell_type": "code",
   "execution_count": 39,
   "metadata": {
    "tags": []
   },
   "outputs": [
    {
     "output_type": "stream",
     "name": "stdout",
     "text": "平均成绩： 88.0\n成绩从大到小排序： [(\"'张三'\", 99.0), ('’李四‘', 77.0)]\n最高分的同学及其分数： [(\"'张三'\", 99.0)]\n最低分的同学及其分数： [('’李四‘', 77.0)]\n"
    }
   ],
   "source": [
    "#练习六：\n",
    "\"\"\"\n",
    "统计考试成绩\n",
    "\"\"\"\n",
    "\n",
    "# ！/usr/bin/env python3  # 根据PATH环境变量中指定的第一个python解释器，执行python脚本\n",
    "# coding=utf-8  # 声明该文件的编码格式为 utf-8\n",
    "\n",
    "import numpy as np\n",
    "\n",
    "students_scores = {}\n",
    "go_on = True\n",
    "\n",
    "while go_on:\n",
    "\tname = input(\"请输入学生的名字:\")\n",
    "\tscore = float(input(\"请输入学生的成绩:\"))\n",
    "\tstudents_scores[name] = score\n",
    " \n",
    "\tincrease = input('还有学生需要录入吗？(yes/no):')\n",
    "\tif increase == 'no':\n",
    "\t\tgo_on = False\n",
    "\n",
    "def average_score(students_scores):\n",
    "    scores = [i for i in students_scores.values()]\n",
    "    return np.mean(scores)\n",
    "\n",
    "# sorted()函数中，lambda是一个隐函数，其参数x表示列表中的一个元素，在这里，表示一个元组，x[0]表示元组里的第一个元素，当然第二个元素就是x[1]；所以这句命令的意思就是按照列表中第二个元素排序 \n",
    "\n",
    "def sorted_scores(students_scores):\n",
    "    descending = True\n",
    "    return sorted(students_scores.items(), key=lambda x:x[1], reverse = descending)\n",
    "\n",
    "def max_scores(students_scores):\n",
    "    sorted_scores_ = sorted_scores(students_scores)\n",
    "    max_score =  sorted_scores_[0][1]\n",
    "    max_scores_ = [x for x in sorted_scores_ if x[1]==max_score]\n",
    "    return  max_scores_\n",
    "\n",
    "def min_scores(students_scores):\n",
    "    sorted_scores_ = sorted_scores(students_scores)\n",
    "    min_score =  sorted_scores_[-1][1]\n",
    "    min_scores_ = [x for x in sorted_scores_ if x[1]==min_score]\n",
    "    return  min_scores_\n",
    "\n",
    "average_score_ = average_score(students_scores)\n",
    "sorted_scores_ = sorted_scores(students_scores)\n",
    "max_scores_ = max_scores(students_scores)\n",
    "min_scores_ = min_scores(students_scores)\n",
    "print(\"平均成绩：\", average_score_)\n",
    "print(\"成绩从大到小排序：\", sorted_scores_)\n",
    "print(\"最高分的同学及其分数：\", max_scores_)\n",
    "print(\"最低分的同学及其分数：\", min_scores_)\n"
   ]
  },
  {
   "cell_type": "code",
   "execution_count": 66,
   "metadata": {
    "tags": []
   },
   "outputs": [
    {
     "output_type": "stream",
     "name": "stdout",
     "text": "100以内的质数：[3, 5, 7, 11, 13, 17, 19, 23, 29, 31, 37, 41, 43, 47, 53, 59, 61, 67, 71, 73, 79, 83, 89, 97]\n"
    }
   ],
   "source": [
    "# 练习七\n",
    "'''\n",
    "找出 100 以内的素数\n",
    "'''\n",
    "\n",
    "# ！/usr/bin/env python3  # 根据PATH环境变量中指定的第一个python解释器，执行python脚本\n",
    "# coding=utf-8  # 声明该文件的编码格式为 utf-8\n",
    "\n",
    "MAX_NUMBER = 100\n",
    "\n",
    "def is_prime(x):\n",
    "    if x % 2 == 0 or x == 1:\n",
    "        return False\n",
    "    else:\n",
    "        for xx in range(2,x):\n",
    "            if x % xx == 0:\n",
    "                return False\n",
    "            else:\n",
    "                if xx == x-1:\n",
    "                    return True\n",
    "\n",
    "primes = [x for x in range(MAX_NUMBER + 1) if is_prime(x)]\n",
    "print(\"%d以内的质数：%s\"%(MAX_NUMBER, primes))\n"
   ]
  },
  {
   "cell_type": "code",
   "execution_count": null,
   "metadata": {},
   "outputs": [],
   "source": []
  }
 ],
 "metadata": {
  "kernelspec": {
   "display_name": "Python 3",
   "language": "python",
   "name": "python3"
  },
  "language_info": {
   "codemirror_mode": {
    "name": "ipython",
    "version": 3
   },
   "file_extension": ".py",
   "mimetype": "text/x-python",
   "name": "python",
   "nbconvert_exporter": "python",
   "pygments_lexer": "ipython3",
   "version": "3.8.3-final"
  }
 },
 "nbformat": 4,
 "nbformat_minor": 4
}