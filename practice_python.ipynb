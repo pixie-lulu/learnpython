{
 "cells": [
  {
   "cell_type": "code",
   "execution_count": 11,
   "metadata": {},
   "outputs": [
    {
     "name": "stdout",
     "output_type": "stream",
     "text": [
      "[2, 3, 4, 5, 6, 7, 8, 9, 0, 1]\n"
     ]
    }
   ],
   "source": [
    "#练习一：\n",
    "#有一个列表，其中包括 10 个元素，例如这个列表是[1,2,3,4,5,6,7,8,9,0],要求将列表中的每个元素一次向前移动一个位置，\n",
    "#第一个元素到列表的最后，然后输出这个列表。最终样式是[2,3,4,5,6,7,8,9,0,1]。\n",
    "\n",
    "\n",
    "#！/usr/bin/env python3     #根据PATH环境变量中指定的第一个python解释器，执行python脚本\n",
    "#coding=utf-8               声明该文件的编码格式为 utf-8\n",
    "\n",
    "init_list = [1,2,3,4,5,6,7,8,9,0]\n",
    "b = list1.pop(0)\n",
    "list1.append(b)\n",
    "print(list1)\n"
   ]
  },
  {
   "cell_type": "code",
   "execution_count": 20,
   "metadata": {},
   "outputs": [
    {
     "name": "stdout",
     "output_type": "stream",
     "text": [
      "19\n",
      "[93, 92, 90, 88, 87, 87, 82, 81, 80, 76, 68, 63, 63, 62, 59, 58, 57, 55, 55, 54, 54, 51, 51, 47, 45, 45, 45, 41, 40, 38, 36, 35, 32, 29, 25, 25, 23, 22, 13, 11]\n"
     ]
    }
   ],
   "source": [
    "#练习二：\n",
    "#按照下面的要求实现对列表的操作：\n",
    "#1.产生一个列表，其中有 40 个元素，每个元素是 0 到 100 的一个随机整数\n",
    "#2.如果这个列表中的数据代表着某个班级 40 人的分数，请计算成绩低于平均分的学生人数，并输出\n",
    "#3.对上面的列表元素从大到小排序\n",
    "\n",
    "\n",
    "#！/usr/bin/env python3     #根据PATH环境变量中指定的第一个python解释器，执行python脚本\n",
    "#coding=utf-8               声明该文件的编码格式为 utf-8\n",
    "\n",
    "import numpy as np\n",
    "produce_list = np.random.randint(0,100,size=40)\n",
    "count = 0\n",
    "for i in produce_list:\n",
    "    if i < np.mean(produce_list):\n",
    "        count = count +1\n",
    "print(count)\n",
    "produce_list_new = sorted(produce_list,reverse = True)\n",
    "print(produce_list_new)"
   ]
  },
  {
   "cell_type": "code",
   "execution_count": 81,
   "metadata": {},
   "outputs": [
    {
     "name": "stdout",
     "output_type": "stream",
     "text": [
      "How  are   you?\n",
      "['How', '', 'are', '', '', 'you?']\n",
      "How are you?\n"
     ]
    }
   ],
   "source": [
    "#练习三:\n",
    "#如果将一句话作为一个字符串，那么这个字符串中必然会有空格（这里仅讨论英文），比如\"How are you.\"，\n",
    "#但有的时候，会在两个单词之间多一个空格。现在的任务是，如果一个字符串中有连续的两个空格，请把它删除。\n",
    "\n",
    "#！/usr/bin/env python3     #根据PATH环境变量中指定的第一个python解释器，执行python脚本\n",
    "#coding=utf-8               声明该文件的编码格式为 utf-8\n",
    "\n",
    "string = \"How  are   you?\"\n",
    "print(string)\n",
    "string_list = string.split(\" \")\n",
    "print(string_list)\n",
    "string_list_new = [s for s in string_list if s!=\"\"]\n",
    "string_new = \" \".join(string_list_new)\n",
    "print(string_new)"
   ]
  },
  {
   "cell_type": "code",
   "execution_count": null,
   "metadata": {},
   "outputs": [],
   "source": []
  }
 ],
 "metadata": {
  "kernelspec": {
   "display_name": "Python 3",
   "language": "python",
   "name": "python3"
  },
  "language_info": {
   "codemirror_mode": {
    "name": "ipython",
    "version": 3
   },
   "file_extension": ".py",
   "mimetype": "text/x-python",
   "name": "python",
   "nbconvert_exporter": "python",
   "pygments_lexer": "ipython3",
   "version": "3.8.3"
  }
 },
 "nbformat": 4,
 "nbformat_minor": 4
}
